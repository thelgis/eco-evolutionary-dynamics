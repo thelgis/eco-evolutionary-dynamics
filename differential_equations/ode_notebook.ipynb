{
 "cells": [
  {
   "cell_type": "markdown",
   "source": [
    "# Initial Parameters "
   ],
   "metadata": {
    "collapsed": false
   },
   "id": "a6d981e3a99b4e50"
  },
  {
   "cell_type": "code",
   "execution_count": 1,
   "outputs": [],
   "source": [
    "theta = 0.3\n",
    "phi = 2.5\n",
    "c = 1.0\n",
    "parameters = [theta, phi, c]  # The order is important "
   ],
   "metadata": {
    "collapsed": false,
    "ExecuteTime": {
     "end_time": "2023-09-17T15:21:38.480466Z",
     "start_time": "2023-09-17T15:21:38.474264Z"
    }
   },
   "id": "3c534241e020658"
  },
  {
   "cell_type": "markdown",
   "source": [
    "# Predator and Prey with no Evolution "
   ],
   "metadata": {
    "collapsed": false
   },
   "id": "52774560915da23c"
  },
  {
   "cell_type": "code",
   "execution_count": 2,
   "outputs": [],
   "source": [
    "from scipy import integrate\n",
    "from ode import predator_prey_no_evolution\n",
    "\n",
    "result = integrate.solve_ivp(\n",
    "    fun=predator_prey_no_evolution,\n",
    "    t_span=(0.0, 100.0),\n",
    "    y0=[1, 0.1],\n",
    "    args=parameters,\n",
    "    first_step=0.1,\n",
    "    max_step=0.1\n",
    ")"
   ],
   "metadata": {
    "collapsed": false,
    "ExecuteTime": {
     "end_time": "2023-09-17T15:21:41.166730Z",
     "start_time": "2023-09-17T15:21:40.551817Z"
    }
   },
   "id": "17705f223c327637"
  },
  {
   "cell_type": "markdown",
   "source": [
    "# Examine the results"
   ],
   "metadata": {
    "collapsed": false
   },
   "id": "7b2f5c99be77ba39"
  },
  {
   "cell_type": "code",
   "execution_count": 4,
   "outputs": [
    {
     "name": "stdout",
     "output_type": "stream",
     "text": [
      "Head:\n",
      "     t         H         P\n",
      "0  0.0  1.000000  0.100000\n",
      "1  0.1  1.066123  0.102738\n",
      "2  0.2  1.134350  0.105967\n",
      "3  0.3  1.204438  0.109713\n",
      "4  0.4  1.276111  0.114007\n",
      "Tail:\n",
      "          t         H         P\n",
      "997    99.7  2.182107  0.293081\n",
      "998    99.8  2.235684  0.314992\n",
      "999    99.9  2.285755  0.338960\n",
      "1000  100.0  2.332140  0.365160\n",
      "1001  100.0  2.332140  0.365160\n"
     ]
    }
   ],
   "source": [
    "import pandas as pd\n",
    "\n",
    "result_df = pd.DataFrame(\n",
    "    {\n",
    "        't': result.t,\n",
    "        'H': result.y[0],\n",
    "        'P': result.y[1]\n",
    "    }\n",
    ")\n",
    "\n",
    "print(\"Head:\")\n",
    "print(result_df.head())\n",
    "\n",
    "print(\"Tail:\")\n",
    "print(result_df.tail())"
   ],
   "metadata": {
    "collapsed": false,
    "ExecuteTime": {
     "end_time": "2023-09-17T15:22:03.691075Z",
     "start_time": "2023-09-17T15:22:03.684182Z"
    }
   },
   "id": "6001fda480aafc0d"
  }
 ],
 "metadata": {
  "kernelspec": {
   "display_name": "Python 3",
   "language": "python",
   "name": "python3"
  },
  "language_info": {
   "codemirror_mode": {
    "name": "ipython",
    "version": 2
   },
   "file_extension": ".py",
   "mimetype": "text/x-python",
   "name": "python",
   "nbconvert_exporter": "python",
   "pygments_lexer": "ipython2",
   "version": "2.7.6"
  }
 },
 "nbformat": 4,
 "nbformat_minor": 5
}
